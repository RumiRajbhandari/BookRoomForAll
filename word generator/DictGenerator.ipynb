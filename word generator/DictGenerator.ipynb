{
 "cells": [
  {
   "cell_type": "code",
   "execution_count": 14,
   "metadata": {},
   "outputs": [],
   "source": [
    "with open('ne.txt', 'r') as f:\n",
    "    lines = f.readlines()\n",
    "\n",
    "# remove spaces\n",
    "lines = [line.replace(' ', '\\n') for line in lines]\n",
    "\n",
    "#delete empty line\n",
    "lines = [line for line in lines if line.strip()]\n",
    "\n",
    "with open('ne.txt', 'w') as f:\n",
    "    f.writelines(lines)"
   ]
  }
 ],
 "metadata": {
  "kernelspec": {
   "display_name": "Python [conda env:RumEnv]",
   "language": "python",
   "name": "conda-env-RumEnv-py"
  },
  "language_info": {
   "codemirror_mode": {
    "name": "ipython",
    "version": 3
   },
   "file_extension": ".py",
   "mimetype": "text/x-python",
   "name": "python",
   "nbconvert_exporter": "python",
   "pygments_lexer": "ipython3",
   "version": "3.6.8"
  }
 },
 "nbformat": 4,
 "nbformat_minor": 2
}

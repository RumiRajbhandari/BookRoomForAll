{
 "cells": [
  {
   "cell_type": "code",
   "execution_count": 156,
   "metadata": {},
   "outputs": [],
   "source": [
    "import os\n",
    "import numpy as np\n",
    "import matplotlib.pyplot as plt\n",
    "from PIL import Image, ImageFilter,ImageOps\n",
    "from keras.preprocessing import image\n",
    "import random\n",
    "import cv2\n",
    "\n",
    "import keras\n",
    "from keras.models import Sequential, Model\n",
    "from keras.layers import Dense, Dropout, Flatten, Conv2D, MaxPooling2D, Input, Reshape, LSTM, Bidirectional, TimeDistributed,BatchNormalization\n",
    "import tensorflow as tf\n",
    "import keras.backend as K\n",
    "from sklearn.model_selection import train_test_split\n",
    "from keras.utils import to_categorical\n",
    "from sklearn import preprocessing\n",
    "imageList = os.listdir('../dataset/LSTMData')"
   ]
  },
  {
   "cell_type": "code",
   "execution_count": 115,
   "metadata": {
    "scrolled": false
   },
   "outputs": [
    {
     "name": "stdout",
     "output_type": "stream",
     "text": [
      "(50, 32)\n"
     ]
    },
    {
     "data": {
      "text/plain": [
       "<matplotlib.image.AxesImage at 0x1a4e8f8240>"
      ]
     },
     "execution_count": 115,
     "metadata": {},
     "output_type": "execute_result"
    },
    {
     "data": {
      "image/png": "[encoded data removed]",
      "text/plain": [
       "<Figure size 432x288 with 1 Axes>"
      ]
     },
     "metadata": {},
     "output_type": "display_data"
    }
   ],
   "source": [
    "image2 = image.load_img(\"../dataset/LSTMData/\"+imageList[1], color_mode=\"grayscale\")\n",
    "print(image2.size)\n",
    "plt.imshow(image2, cmap='gray')"
   ]
  },
  {
   "cell_type": "code",
   "execution_count": 116,
   "metadata": {},
   "outputs": [
    {
     "data": {
      "text/plain": [
       "array([[255., 255., 255., ..., 255., 255., 255.],\n",
       "       [255., 255., 255., ..., 255., 255., 255.],\n",
       "       [255., 255., 255., ..., 255., 255., 255.],\n",
       "       ...,\n",
       "       [255., 255., 255., ..., 255., 255., 255.],\n",
       "       [255., 255., 255., ..., 255., 255., 255.],\n",
       "       [255., 255., 255., ..., 255., 255., 255.]])"
      ]
     },
     "execution_count": 116,
     "metadata": {},
     "output_type": "execute_result"
    }
   ],
   "source": [
    "background = np.ones([32,180])*255\n",
    "background.shape\n",
    "background"
   ]
  },
  {
   "cell_type": "code",
   "execution_count": 261,
   "metadata": {},
   "outputs": [
    {
     "name": "stdout",
     "output_type": "stream",
     "text": [
      "error\n"
     ]
    }
   ],
   "source": [
    "targetImageList = []\n",
    "originalImageName = []\n",
    "for img in imageList:\n",
    "    try:\n",
    "        name, extension = img.split('_')\n",
    "        \n",
    "        \n",
    "        image2 = image.load_img(\"../dataset/LSTMData/\"+img, color_mode=\"grayscale\")\n",
    "        img = np.array(image2)\n",
    "        (wt, ht) = (128, 32)\n",
    "        (h, w) = img.shape\n",
    "        fx = w / wt\n",
    "        fy = h / ht\n",
    "        f = max(fx, fy)\n",
    "        newSize = (max(min(wt, int(w / f)), 1), max(min(ht, int(h / f)), 1)) # scale according to f (result at least 1 and at most wt or ht)\n",
    "        img = cv2.resize(np.array(img), newSize)\n",
    "        target = np.ones([ht, wt]) * 255\n",
    "        target[0:newSize[1], 0:newSize[0]] = img\n",
    "        \n",
    "        \n",
    "        originalImageName.append(name)\n",
    "        \n",
    "        \n",
    "        img = cv2.transpose(target)\n",
    "        \n",
    "        \n",
    "      \n",
    "        (m, s) = cv2.meanStdDev(img)\n",
    "        m = m[0][0]\n",
    "        s = s[0][0]\n",
    "        img = img - m\n",
    "        img = img / s if s>0 else img\n",
    "        \n",
    "        img = np.expand_dims(img, axis=2)\n",
    "    \n",
    "        targetImageList.append(img)\n",
    "    except:\n",
    "        print(\"error\")\n",
    "    "
   ]
  },
  {
   "cell_type": "code",
   "execution_count": 262,
   "metadata": {},
   "outputs": [
    {
     "data": {
      "text/plain": [
       "'सचिव'"
      ]
     },
     "execution_count": 262,
     "metadata": {},
     "output_type": "execute_result"
    }
   ],
   "source": [
    "originalImageName[0]"
   ]
  },
  {
   "cell_type": "code",
   "execution_count": 263,
   "metadata": {},
   "outputs": [
    {
     "name": "stderr",
     "output_type": "stream",
     "text": [
      "/anaconda/lib/python3.6/site-packages/sklearn/preprocessing/label.py:151: DeprecationWarning: The truth value of an empty array is ambiguous. Returning False, but in future this will result in an error. Use `array.size > 0` to check that an array is not empty.\n",
      "  if diff:\n"
     ]
    },
    {
     "data": {
      "text/plain": [
       "['सचिव', 'सचिव']"
      ]
     },
     "execution_count": 263,
     "metadata": {},
     "output_type": "execute_result"
    }
   ],
   "source": [
    "le = preprocessing.LabelEncoder()\n",
    "imageName = le.fit_transform(originalImageName)\n",
    "list(le.inverse_transform([691, 691]))"
   ]
  },
  {
   "cell_type": "code",
   "execution_count": 264,
   "metadata": {},
   "outputs": [
    {
     "data": {
      "text/plain": [
       "(999, 128, 32, 1)"
      ]
     },
     "execution_count": 264,
     "metadata": {},
     "output_type": "execute_result"
    }
   ],
   "source": [
    "np.shape(targetImageList)"
   ]
  },
  {
   "cell_type": "code",
   "execution_count": 265,
   "metadata": {
    "scrolled": true
   },
   "outputs": [
    {
     "data": {
      "text/plain": [
       "<matplotlib.image.AxesImage at 0x1a37fcf630>"
      ]
     },
     "execution_count": 265,
     "metadata": {},
     "output_type": "execute_result"
    },
    {
     "data": {
      "image/png": "[encoded data removed]",
      "text/plain": [
       "<Figure size 432x288 with 1 Axes>"
      ]
     },
     "metadata": {},
     "output_type": "display_data"
    }
   ],
   "source": [
    "plt.imshow(target, cmap='gray')"
   ]
  },
  {
   "cell_type": "markdown",
   "metadata": {},
   "source": [
    "Transpose"
   ]
  },
  {
   "cell_type": "code",
   "execution_count": 7,
   "metadata": {
    "scrolled": true
   },
   "outputs": [
    {
     "name": "stdout",
     "output_type": "stream",
     "text": [
      "(128, 32)\n"
     ]
    },
    {
     "data": {
      "text/plain": [
       "<matplotlib.image.AxesImage at 0x1a32af1908>"
      ]
     },
     "execution_count": 7,
     "metadata": {},
     "output_type": "execute_result"
    },
    {
     "data": {
      "image/png": "[encoded data removed]",
      "text/plain": [
       "<Figure size 432x288 with 1 Axes>"
      ]
     },
     "metadata": {},
     "output_type": "display_data"
    }
   ],
   "source": [
    "img = cv2.transpose(target)\n",
    "print(img.shape)\n",
    "plt.imshow(img, cmap='gray')"
   ]
  },
  {
   "cell_type": "markdown",
   "metadata": {},
   "source": [
    "Normalize"
   ]
  },
  {
   "cell_type": "code",
   "execution_count": 7,
   "metadata": {},
   "outputs": [
    {
     "name": "stdout",
     "output_type": "stream",
     "text": [
      "(128, 32)\n"
     ]
    },
    {
     "data": {
      "image/png": "[encoded data removed]",
      "text/plain": [
       "<Figure size 432x288 with 1 Axes>"
      ]
     },
     "metadata": {},
     "output_type": "display_data"
    }
   ],
   "source": [
    "(m, s) = cv2.meanStdDev(img)\n",
    "m = m[0][0]\n",
    "s = s[0][0]\n",
    "img = img - m\n",
    "img = img / s if s>0 else img\n",
    "plt.imshow(img, cmap='gray')\n",
    "print(img.shape)"
   ]
  },
  {
   "cell_type": "markdown",
   "metadata": {},
   "source": [
    "Loop through the image list to get truth text"
   ]
  },
  {
   "cell_type": "code",
   "execution_count": 8,
   "metadata": {},
   "outputs": [],
   "source": [
    "a,b = imageList[0].split('_')\n",
    "imageName = []\n",
    "for image in imageList:\n",
    "    name, extension = image.split('_')\n",
    "    imageName.append(name)"
   ]
  },
  {
   "cell_type": "markdown",
   "metadata": {},
   "source": [
    "Splitting training data into train and test"
   ]
  },
  {
   "cell_type": "code",
   "execution_count": 255,
   "metadata": {},
   "outputs": [],
   "source": [
    "xTrain, xTest, yTrain, yTest = train_test_split(targetImageList, imageName, test_size = 0.2, random_state = 0)"
   ]
  },
  {
   "cell_type": "code",
   "execution_count": 256,
   "metadata": {},
   "outputs": [
    {
     "name": "stdout",
     "output_type": "stream",
     "text": [
      "(128, 32, 1)\n"
     ]
    },
    {
     "ename": "TypeError",
     "evalue": "Invalid dimensions for image data",
     "output_type": "error",
     "traceback": [
      "\u001b[0;31m---------------------------------------------------------------------------\u001b[0m",
      "\u001b[0;31mTypeError\u001b[0m                                 Traceback (most recent call last)",
      "\u001b[0;32m<ipython-input-256-6fc772eacfd8>\u001b[0m in \u001b[0;36m<module>\u001b[0;34m()\u001b[0m\n\u001b[1;32m      1\u001b[0m \u001b[0mprint\u001b[0m\u001b[0;34m(\u001b[0m\u001b[0mnp\u001b[0m\u001b[0;34m.\u001b[0m\u001b[0mshape\u001b[0m\u001b[0;34m(\u001b[0m\u001b[0mxTrain\u001b[0m\u001b[0;34m[\u001b[0m\u001b[0;36m0\u001b[0m\u001b[0;34m]\u001b[0m\u001b[0;34m)\u001b[0m\u001b[0;34m)\u001b[0m\u001b[0;34m\u001b[0m\u001b[0;34m\u001b[0m\u001b[0m\n\u001b[0;32m----> 2\u001b[0;31m \u001b[0mplt\u001b[0m\u001b[0;34m.\u001b[0m\u001b[0mimshow\u001b[0m\u001b[0;34m(\u001b[0m\u001b[0mxTest\u001b[0m\u001b[0;34m[\u001b[0m\u001b[0;36m0\u001b[0m\u001b[0;34m]\u001b[0m\u001b[0;34m,\u001b[0m \u001b[0mcmap\u001b[0m\u001b[0;34m=\u001b[0m\u001b[0;34m'gray'\u001b[0m\u001b[0;34m)\u001b[0m\u001b[0;34m\u001b[0m\u001b[0;34m\u001b[0m\u001b[0m\n\u001b[0m",
      "\u001b[0;32m/anaconda/lib/python3.6/site-packages/matplotlib/pyplot.py\u001b[0m in \u001b[0;36mimshow\u001b[0;34m(X, cmap, norm, aspect, interpolation, alpha, vmin, vmax, origin, extent, shape, filternorm, filterrad, imlim, resample, url, data, **kwargs)\u001b[0m\n\u001b[1;32m   2699\u001b[0m         \u001b[0mfilternorm\u001b[0m\u001b[0;34m=\u001b[0m\u001b[0mfilternorm\u001b[0m\u001b[0;34m,\u001b[0m \u001b[0mfilterrad\u001b[0m\u001b[0;34m=\u001b[0m\u001b[0mfilterrad\u001b[0m\u001b[0;34m,\u001b[0m \u001b[0mimlim\u001b[0m\u001b[0;34m=\u001b[0m\u001b[0mimlim\u001b[0m\u001b[0;34m,\u001b[0m\u001b[0;34m\u001b[0m\u001b[0;34m\u001b[0m\u001b[0m\n\u001b[1;32m   2700\u001b[0m         resample=resample, url=url, **({\"data\": data} if data is not\n\u001b[0;32m-> 2701\u001b[0;31m         None else {}), **kwargs)\n\u001b[0m\u001b[1;32m   2702\u001b[0m     \u001b[0msci\u001b[0m\u001b[0;34m(\u001b[0m\u001b[0m__ret\u001b[0m\u001b[0;34m)\u001b[0m\u001b[0;34m\u001b[0m\u001b[0;34m\u001b[0m\u001b[0m\n\u001b[1;32m   2703\u001b[0m     \u001b[0;32mreturn\u001b[0m \u001b[0m__ret\u001b[0m\u001b[0;34m\u001b[0m\u001b[0;34m\u001b[0m\u001b[0m\n",
      "\u001b[0;32m/anaconda/lib/python3.6/site-packages/matplotlib/__init__.py\u001b[0m in \u001b[0;36minner\u001b[0;34m(ax, data, *args, **kwargs)\u001b[0m\n\u001b[1;32m   1808\u001b[0m                         \u001b[0;34m\"the Matplotlib list!)\"\u001b[0m \u001b[0;34m%\u001b[0m \u001b[0;34m(\u001b[0m\u001b[0mlabel_namer\u001b[0m\u001b[0;34m,\u001b[0m \u001b[0mfunc\u001b[0m\u001b[0;34m.\u001b[0m\u001b[0m__name__\u001b[0m\u001b[0;34m)\u001b[0m\u001b[0;34m,\u001b[0m\u001b[0;34m\u001b[0m\u001b[0;34m\u001b[0m\u001b[0m\n\u001b[1;32m   1809\u001b[0m                         RuntimeWarning, stacklevel=2)\n\u001b[0;32m-> 1810\u001b[0;31m             \u001b[0;32mreturn\u001b[0m \u001b[0mfunc\u001b[0m\u001b[0;34m(\u001b[0m\u001b[0max\u001b[0m\u001b[0;34m,\u001b[0m \u001b[0;34m*\u001b[0m\u001b[0margs\u001b[0m\u001b[0;34m,\u001b[0m \u001b[0;34m**\u001b[0m\u001b[0mkwargs\u001b[0m\u001b[0;34m)\u001b[0m\u001b[0;34m\u001b[0m\u001b[0;34m\u001b[0m\u001b[0m\n\u001b[0m\u001b[1;32m   1811\u001b[0m \u001b[0;34m\u001b[0m\u001b[0m\n\u001b[1;32m   1812\u001b[0m         inner.__doc__ = _add_data_doc(inner.__doc__,\n",
      "\u001b[0;32m/anaconda/lib/python3.6/site-packages/matplotlib/axes/_axes.py\u001b[0m in \u001b[0;36mimshow\u001b[0;34m(self, X, cmap, norm, aspect, interpolation, alpha, vmin, vmax, origin, extent, shape, filternorm, filterrad, imlim, resample, url, **kwargs)\u001b[0m\n\u001b[1;32m   5492\u001b[0m                               resample=resample, **kwargs)\n\u001b[1;32m   5493\u001b[0m \u001b[0;34m\u001b[0m\u001b[0m\n\u001b[0;32m-> 5494\u001b[0;31m         \u001b[0mim\u001b[0m\u001b[0;34m.\u001b[0m\u001b[0mset_data\u001b[0m\u001b[0;34m(\u001b[0m\u001b[0mX\u001b[0m\u001b[0;34m)\u001b[0m\u001b[0;34m\u001b[0m\u001b[0;34m\u001b[0m\u001b[0m\n\u001b[0m\u001b[1;32m   5495\u001b[0m         \u001b[0mim\u001b[0m\u001b[0;34m.\u001b[0m\u001b[0mset_alpha\u001b[0m\u001b[0;34m(\u001b[0m\u001b[0malpha\u001b[0m\u001b[0;34m)\u001b[0m\u001b[0;34m\u001b[0m\u001b[0;34m\u001b[0m\u001b[0m\n\u001b[1;32m   5496\u001b[0m         \u001b[0;32mif\u001b[0m \u001b[0mim\u001b[0m\u001b[0;34m.\u001b[0m\u001b[0mget_clip_path\u001b[0m\u001b[0;34m(\u001b[0m\u001b[0;34m)\u001b[0m \u001b[0;32mis\u001b[0m \u001b[0;32mNone\u001b[0m\u001b[0;34m:\u001b[0m\u001b[0;34m\u001b[0m\u001b[0;34m\u001b[0m\u001b[0m\n",
      "\u001b[0;32m/anaconda/lib/python3.6/site-packages/matplotlib/image.py\u001b[0m in \u001b[0;36mset_data\u001b[0;34m(self, A)\u001b[0m\n\u001b[1;32m    644\u001b[0m         if not (self._A.ndim == 2\n\u001b[1;32m    645\u001b[0m                 or self._A.ndim == 3 and self._A.shape[-1] in [3, 4]):\n\u001b[0;32m--> 646\u001b[0;31m             \u001b[0;32mraise\u001b[0m \u001b[0mTypeError\u001b[0m\u001b[0;34m(\u001b[0m\u001b[0;34m\"Invalid dimensions for image data\"\u001b[0m\u001b[0;34m)\u001b[0m\u001b[0;34m\u001b[0m\u001b[0;34m\u001b[0m\u001b[0m\n\u001b[0m\u001b[1;32m    647\u001b[0m \u001b[0;34m\u001b[0m\u001b[0m\n\u001b[1;32m    648\u001b[0m         \u001b[0;32mif\u001b[0m \u001b[0mself\u001b[0m\u001b[0;34m.\u001b[0m\u001b[0m_A\u001b[0m\u001b[0;34m.\u001b[0m\u001b[0mndim\u001b[0m \u001b[0;34m==\u001b[0m \u001b[0;36m3\u001b[0m\u001b[0;34m:\u001b[0m\u001b[0;34m\u001b[0m\u001b[0;34m\u001b[0m\u001b[0m\n",
      "\u001b[0;31mTypeError\u001b[0m: Invalid dimensions for image data"
     ]
    },
    {
     "data": {
      "image/png": "[encoded data removed]",
      "text/plain": [
       "<Figure size 432x288 with 1 Axes>"
      ]
     },
     "metadata": {},
     "output_type": "display_data"
    }
   ],
   "source": [
    "print(np.shape(xTrain[0]))\n",
    "plt.imshow(xTest[0], cmap='gray')"
   ]
  },
  {
   "cell_type": "code",
   "execution_count": 180,
   "metadata": {},
   "outputs": [],
   "source": [
    "kernelVals = [5, 5, 3, 3, 3]\n",
    "featureVals = [1, 32, 64, 128, 256]\n",
    "strideVals = poolVals = [(2,2), (2,2), (1,2), (1,2), (1,2)]\n",
    "numLayers = len(strideVals)\n",
    "inShp=(128,32,1)\n",
    "\n",
    "model = Sequential()\n",
    "model.add(Conv2D(1, (1,1), padding=\"same\",input_shape=inShp, activation='relu'))\n",
    "\n",
    "for i in range(numLayers):\n",
    "    model.add(Conv2D(featureVals[i], (poolVals[i][0], poolVals[i][1]), padding=\"same\", activation='relu'))\n",
    "    model.add(BatchNormalization())\n",
    "    model.add(MaxPooling2D(pool_size=(poolVals[i][0], poolVals[i][1]), strides=(poolVals[i][0], poolVals[i][1])))\n",
    "           \n",
    "numHidden = 256\n",
    "inputSize = (None,4,1,128)\n",
    "model.add(TimeDistributed(Flatten()))\n",
    "model.add(Bidirectional(LSTM((numHidden), batch_input_shape=(None,32,1,256), return_sequences=True)))\n",
    "model.add(Bidirectional(LSTM((numHidden), return_sequences=True)))\n",
    "model.add(Flatten())\n",
    "model.add(Dense(1000, activation='softmax'))\n",
    "\n",
    "model.compile(loss='sparse_categorical_crossentropy',\n",
    "                optimizer=keras.optimizers.Adadelta(),\n",
    "                metrics=['accuracy'])\n"
   ]
  },
  {
   "cell_type": "code",
   "execution_count": 181,
   "metadata": {},
   "outputs": [
    {
     "name": "stdout",
     "output_type": "stream",
     "text": [
      "_________________________________________________________________\n",
      "Layer (type)                 Output Shape              Param #   \n",
      "=================================================================\n",
      "conv2d_149 (Conv2D)          (None, 128, 32, 1)        2         \n",
      "_________________________________________________________________\n",
      "conv2d_150 (Conv2D)          (None, 128, 32, 1)        5         \n",
      "_________________________________________________________________\n",
      "batch_normalization_131 (Bat (None, 128, 32, 1)        4         \n",
      "_________________________________________________________________\n",
      "max_pooling2d_131 (MaxPoolin (None, 64, 16, 1)         0         \n",
      "_________________________________________________________________\n",
      "conv2d_151 (Conv2D)          (None, 64, 16, 32)        160       \n",
      "_________________________________________________________________\n",
      "batch_normalization_132 (Bat (None, 64, 16, 32)        128       \n",
      "_________________________________________________________________\n",
      "max_pooling2d_132 (MaxPoolin (None, 32, 8, 32)         0         \n",
      "_________________________________________________________________\n",
      "conv2d_152 (Conv2D)          (None, 32, 8, 64)         4160      \n",
      "_________________________________________________________________\n",
      "batch_normalization_133 (Bat (None, 32, 8, 64)         256       \n",
      "_________________________________________________________________\n",
      "max_pooling2d_133 (MaxPoolin (None, 32, 4, 64)         0         \n",
      "_________________________________________________________________\n",
      "conv2d_153 (Conv2D)          (None, 32, 4, 128)        16512     \n",
      "_________________________________________________________________\n",
      "batch_normalization_134 (Bat (None, 32, 4, 128)        512       \n",
      "_________________________________________________________________\n",
      "max_pooling2d_134 (MaxPoolin (None, 32, 2, 128)        0         \n",
      "_________________________________________________________________\n",
      "conv2d_154 (Conv2D)          (None, 32, 2, 256)        65792     \n",
      "_________________________________________________________________\n",
      "batch_normalization_135 (Bat (None, 32, 2, 256)        1024      \n",
      "_________________________________________________________________\n",
      "max_pooling2d_135 (MaxPoolin (None, 32, 1, 256)        0         \n",
      "_________________________________________________________________\n",
      "time_distributed_39 (TimeDis (None, 32, 256)           0         \n",
      "_________________________________________________________________\n",
      "bidirectional_53 (Bidirectio (None, 32, 512)           1050624   \n",
      "_________________________________________________________________\n",
      "bidirectional_54 (Bidirectio (None, 32, 512)           1574912   \n",
      "_________________________________________________________________\n",
      "flatten_35 (Flatten)         (None, 16384)             0         \n",
      "_________________________________________________________________\n",
      "dense_25 (Dense)             (None, 1000)              16385000  \n",
      "=================================================================\n",
      "Total params: 19,099,091\n",
      "Trainable params: 19,098,129\n",
      "Non-trainable params: 962\n",
      "_________________________________________________________________\n",
      "None\n"
     ]
    }
   ],
   "source": [
    "try:\n",
    "    input_shape =(None,128,32,1)\n",
    "    model.build(input_shape)\n",
    "    print(model.summary())\n",
    "except AssertionError as assErr:\n",
    "    print(assErr)\n",
    "    "
   ]
  },
  {
   "cell_type": "code",
   "execution_count": 182,
   "metadata": {},
   "outputs": [
    {
     "name": "stdout",
     "output_type": "stream",
     "text": [
      "_________________________________________________________________\n",
      "Layer (type)                 Output Shape              Param #   \n",
      "=================================================================\n",
      "conv2d_149 (Conv2D)          (None, 128, 32, 1)        2         \n",
      "_________________________________________________________________\n",
      "conv2d_150 (Conv2D)          (None, 128, 32, 1)        5         \n",
      "_________________________________________________________________\n",
      "batch_normalization_131 (Bat (None, 128, 32, 1)        4         \n",
      "_________________________________________________________________\n",
      "max_pooling2d_131 (MaxPoolin (None, 64, 16, 1)         0         \n",
      "_________________________________________________________________\n",
      "conv2d_151 (Conv2D)          (None, 64, 16, 32)        160       \n",
      "_________________________________________________________________\n",
      "batch_normalization_132 (Bat (None, 64, 16, 32)        128       \n",
      "_________________________________________________________________\n",
      "max_pooling2d_132 (MaxPoolin (None, 32, 8, 32)         0         \n",
      "_________________________________________________________________\n",
      "conv2d_152 (Conv2D)          (None, 32, 8, 64)         4160      \n",
      "_________________________________________________________________\n",
      "batch_normalization_133 (Bat (None, 32, 8, 64)         256       \n",
      "_________________________________________________________________\n",
      "max_pooling2d_133 (MaxPoolin (None, 32, 4, 64)         0         \n",
      "_________________________________________________________________\n",
      "conv2d_153 (Conv2D)          (None, 32, 4, 128)        16512     \n",
      "_________________________________________________________________\n",
      "batch_normalization_134 (Bat (None, 32, 4, 128)        512       \n",
      "_________________________________________________________________\n",
      "max_pooling2d_134 (MaxPoolin (None, 32, 2, 128)        0         \n",
      "_________________________________________________________________\n",
      "conv2d_154 (Conv2D)          (None, 32, 2, 256)        65792     \n",
      "_________________________________________________________________\n",
      "batch_normalization_135 (Bat (None, 32, 2, 256)        1024      \n",
      "_________________________________________________________________\n",
      "max_pooling2d_135 (MaxPoolin (None, 32, 1, 256)        0         \n",
      "_________________________________________________________________\n",
      "time_distributed_39 (TimeDis (None, 32, 256)           0         \n",
      "_________________________________________________________________\n",
      "bidirectional_53 (Bidirectio (None, 32, 512)           1050624   \n",
      "_________________________________________________________________\n",
      "bidirectional_54 (Bidirectio (None, 32, 512)           1574912   \n",
      "_________________________________________________________________\n",
      "flatten_35 (Flatten)         (None, 16384)             0         \n",
      "_________________________________________________________________\n",
      "dense_25 (Dense)             (None, 1000)              16385000  \n",
      "=================================================================\n",
      "Total params: 19,099,091\n",
      "Trainable params: 19,098,129\n",
      "Non-trainable params: 962\n",
      "_________________________________________________________________\n",
      "None\n"
     ]
    }
   ],
   "source": [
    "input_shape =(None,128,32,1)\n",
    "model.build(input_shape)\n",
    "print(model.summary())"
   ]
  },
  {
   "cell_type": "code",
   "execution_count": 183,
   "metadata": {},
   "outputs": [
    {
     "name": "stdout",
     "output_type": "stream",
     "text": [
      "Train on 799 samples, validate on 200 samples\n",
      "Epoch 1/10\n",
      "799/799 [==============================] - 39s 49ms/step - loss: 7.0151 - acc: 0.0063 - val_loss: 6.9438 - val_acc: 0.0000e+00\n",
      "Epoch 2/10\n",
      "799/799 [==============================] - 28s 35ms/step - loss: 6.3775 - acc: 0.0200 - val_loss: 7.1819 - val_acc: 0.0050\n",
      "Epoch 3/10\n",
      "799/799 [==============================] - 28s 35ms/step - loss: 5.6926 - acc: 0.0300 - val_loss: 7.0322 - val_acc: 0.0200\n",
      "Epoch 4/10\n",
      "799/799 [==============================] - 33s 42ms/step - loss: 5.0001 - acc: 0.0613 - val_loss: 7.3094 - val_acc: 0.0050\n",
      "Epoch 5/10\n",
      "799/799 [==============================] - 31s 38ms/step - loss: 4.2336 - acc: 0.1327 - val_loss: 7.3979 - val_acc: 0.0150\n",
      "Epoch 6/10\n",
      "799/799 [==============================] - 28s 35ms/step - loss: 3.1891 - acc: 0.3116 - val_loss: 7.7005 - val_acc: 0.0250\n",
      "Epoch 7/10\n",
      "799/799 [==============================] - 28s 35ms/step - loss: 1.8109 - acc: 0.6120 - val_loss: 8.0871 - val_acc: 0.0200\n",
      "Epoch 8/10\n",
      "799/799 [==============================] - 34s 42ms/step - loss: 0.5005 - acc: 0.8924 - val_loss: 8.0629 - val_acc: 0.0250\n",
      "Epoch 9/10\n",
      "799/799 [==============================] - 34s 43ms/step - loss: 0.1131 - acc: 0.9775 - val_loss: 8.3492 - val_acc: 0.0450\n",
      "Epoch 10/10\n",
      "799/799 [==============================] - 31s 39ms/step - loss: 0.0193 - acc: 0.9950 - val_loss: 8.4289 - val_acc: 0.0250\n"
     ]
    }
   ],
   "source": [
    "x_test = np.array(xTest)\n",
    "y_test = np.array(yTest)\n",
    "y_train = np.array(yTrain)\n",
    "x_train = np.array(xTrain)\n",
    "history = model.fit(x_train,y_train,epochs=10,validation_data=(x_test, y_test))\n"
   ]
  },
  {
   "cell_type": "code",
   "execution_count": 192,
   "metadata": {},
   "outputs": [],
   "source": [
    "result = model.predict(x_test)"
   ]
  },
  {
   "cell_type": "code",
   "execution_count": 187,
   "metadata": {},
   "outputs": [
    {
     "data": {
      "image/png": "[encoded data removed]",
      "text/plain": [
       "<Figure size 432x288 with 1 Axes>"
      ]
     },
     "metadata": {},
     "output_type": "display_data"
    }
   ],
   "source": [
    "plt.plot(history.history['loss'])\n",
    "plt.show()"
   ]
  },
  {
   "cell_type": "code",
   "execution_count": 193,
   "metadata": {},
   "outputs": [
    {
     "data": {
      "text/plain": [
       "200000"
      ]
     },
     "execution_count": 193,
     "metadata": {},
     "output_type": "execute_result"
    }
   ],
   "source": [
    "result.size"
   ]
  },
  {
   "cell_type": "code",
   "execution_count": 300,
   "metadata": {},
   "outputs": [],
   "source": [
    "test_image = np.expand_dims(xTest[102], axis = 0)\n",
    "\n",
    "prediction = model.predict(test_image)"
   ]
  },
  {
   "cell_type": "code",
   "execution_count": 301,
   "metadata": {},
   "outputs": [
    {
     "name": "stdout",
     "output_type": "stream",
     "text": [
      "470\n"
     ]
    }
   ],
   "source": [
    "predicted_class = np.argmax(prediction[0])\n",
    "print(predicted_class)"
   ]
  },
  {
   "cell_type": "code",
   "execution_count": 302,
   "metadata": {},
   "outputs": [
    {
     "name": "stderr",
     "output_type": "stream",
     "text": [
      "/anaconda/lib/python3.6/site-packages/sklearn/preprocessing/label.py:151: DeprecationWarning: The truth value of an empty array is ambiguous. Returning False, but in future this will result in an error. Use `array.size > 0` to check that an array is not empty.\n",
      "  if diff:\n"
     ]
    },
    {
     "data": {
      "text/plain": [
       "'बटमलाइन'"
      ]
     },
     "execution_count": 302,
     "metadata": {},
     "output_type": "execute_result"
    }
   ],
   "source": [
    "le.inverse_transform(predicted_class)"
   ]
  },
  {
   "cell_type": "code",
   "execution_count": 303,
   "metadata": {},
   "outputs": [],
   "source": [
    "targetImg = np.reshape(xTest[102],(128,32))"
   ]
  },
  {
   "cell_type": "code",
   "execution_count": 304,
   "metadata": {},
   "outputs": [
    {
     "data": {
      "text/plain": [
       "<matplotlib.image.AxesImage at 0x1a36e7d780>"
      ]
     },
     "execution_count": 304,
     "metadata": {},
     "output_type": "execute_result"
    },
    {
     "data": {
      "image/png": "[encoded data removed]",
      "text/plain": [
       "<Figure size 432x288 with 1 Axes>"
      ]
     },
     "metadata": {},
     "output_type": "display_data"
    }
   ],
   "source": [
    "plt.imshow(targetImg,cmap='gray')"
   ]
  },
  {
   "cell_type": "code",
   "execution_count": 277,
   "metadata": {},
   "outputs": [
    {
     "data": {
      "text/plain": [
       "(128, 32, 1)"
      ]
     },
     "execution_count": 277,
     "metadata": {},
     "output_type": "execute_result"
    }
   ],
   "source": [
    "xTest[0].shape"
   ]
  },
  {
   "cell_type": "code",
   "execution_count": null,
   "metadata": {},
   "outputs": [],
   "source": []
  }
 ],
 "metadata": {
  "kernelspec": {
   "display_name": "Python 3",
   "language": "python",
   "name": "python3"
  },
  "language_info": {
   "codemirror_mode": {
    "name": "ipython",
    "version": 3
   },
   "file_extension": ".py",
   "mimetype": "text/x-python",
   "name": "python",
   "nbconvert_exporter": "python",
   "pygments_lexer": "ipython3",
   "version": "3.6.7"
  }
 },
 "nbformat": 4,
 "nbformat_minor": 2
}

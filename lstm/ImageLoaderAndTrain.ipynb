{
 "cells": [
  {
   "cell_type": "code",
   "execution_count": 110,
   "metadata": {},
   "outputs": [],
   "source": [
    "import os\n",
    "import numpy as np\n",
    "import matplotlib.pyplot as plt\n",
    "from PIL import Image, ImageFilter,ImageOps\n",
    "from keras.preprocessing import image\n",
    "import random\n",
    "import cv2\n",
    "import keras\n",
    "from keras.models import Sequential, Model\n",
    "from keras.layers import Dense, Dropout, Flatten, Conv2D, MaxPooling2D, Input, Reshape, LSTM, Bidirectional, TimeDistributed,BatchNormalization\n",
    "import tensorflow as tf\n",
    "import keras.backend as K\n",
    "from sklearn.model_selection import train_test_split\n",
    "from keras.utils import to_categorical\n",
    "from sklearn import preprocessing\n",
    "import datetime\n",
    "imageList = os.listdir('../dataset/LSTMData')\n"
   ]
  },
  {
   "cell_type": "code",
   "execution_count": 117,
   "metadata": {},
   "outputs": [
    {
     "name": "stdout",
     "output_type": "stream",
     "text": [
      "error\n"
     ]
    }
   ],
   "source": [
    "targetImageList = []\n",
    "originalImageName = []\n",
    "for img in imageList:\n",
    "    try:\n",
    "        name, extension = img.split('_')\n",
    "        \n",
    "        #create plain background for image\n",
    "        image2 = image.load_img(\"../dataset/LSTMData/\"+img, color_mode=\"grayscale\")\n",
    "        img = np.array(image2)\n",
    "        (wt, ht) = (128, 32)\n",
    "        (h, w) = img.shape\n",
    "        fx = w / wt\n",
    "        fy = h / ht\n",
    "        f = max(fx, fy)\n",
    "        newSize = (max(min(wt, int(w / f)), 1), max(min(ht, int(h / f)), 1)) # scale according to f (result at least 1 and at most wt or ht)\n",
    "        img = cv2.resize(np.array(img), newSize)\n",
    "        target = np.ones([ht, wt]) * 255\n",
    "        target[0:newSize[1], 0:newSize[0]] = img\n",
    "        \n",
    "        #add image name\n",
    "        originalImageName.append(name)\n",
    "        \n",
    "        #image transpose\n",
    "        img = cv2.transpose(target)\n",
    "        \n",
    "        #normalize the image\n",
    "        (m, s) = cv2.meanStdDev(img)\n",
    "        m = m[0][0]\n",
    "        s = s[0][0]\n",
    "        img = img - m\n",
    "        img = img / s if s>0 else img\n",
    "        \n",
    "        img = np.expand_dims(img, axis=2)\n",
    "    \n",
    "        targetImageList.append(img)\n",
    "    except:\n",
    "        print(\"error\")\n",
    "    "
   ]
  },
  {
   "cell_type": "code",
   "execution_count": 118,
   "metadata": {},
   "outputs": [
    {
     "data": {
      "text/plain": [
       "'बनाइएको'"
      ]
     },
     "execution_count": 118,
     "metadata": {},
     "output_type": "execute_result"
    }
   ],
   "source": [
    "originalImageName[0]"
   ]
  },
  {
   "cell_type": "markdown",
   "metadata": {},
   "source": [
    "Label encoder"
   ]
  },
  {
   "cell_type": "code",
   "execution_count": 70,
   "metadata": {},
   "outputs": [
    {
     "name": "stderr",
     "output_type": "stream",
     "text": [
      "/anaconda/lib/python3.6/site-packages/sklearn/preprocessing/label.py:151: DeprecationWarning: The truth value of an empty array is ambiguous. Returning False, but in future this will result in an error. Use `array.size > 0` to check that an array is not empty.\n",
      "  if diff:\n"
     ]
    },
    {
     "data": {
      "text/plain": [
       "['कारोबारीको', 'कारोबारीको']"
      ]
     },
     "execution_count": 70,
     "metadata": {},
     "output_type": "execute_result"
    }
   ],
   "source": [
    "le = preprocessing.LabelEncoder()\n",
    "imageName = le.fit_transform(originalImageName)\n",
    "list(le.inverse_transform([691, 691]))"
   ]
  },
  {
   "cell_type": "code",
   "execution_count": 71,
   "metadata": {},
   "outputs": [
    {
     "data": {
      "text/plain": [
       "(10998, 128, 32, 1)"
      ]
     },
     "execution_count": 71,
     "metadata": {},
     "output_type": "execute_result"
    }
   ],
   "source": [
    "np.shape(targetImageList)"
   ]
  },
  {
   "cell_type": "markdown",
   "metadata": {},
   "source": [
    "Splitting training data into train and test"
   ]
  },
  {
   "cell_type": "code",
   "execution_count": 10,
   "metadata": {},
   "outputs": [],
   "source": [
    "xTrain, xTest, yTrain, yTest = train_test_split(targetImageList, imageName, test_size = 0.2, random_state = 0)"
   ]
  },
  {
   "cell_type": "code",
   "execution_count": 11,
   "metadata": {},
   "outputs": [],
   "source": [
    "kernelVals = [5, 5, 3, 3, 3]\n",
    "featureVals = [1, 32, 64, 128, 256]\n",
    "strideVals = poolVals = [(2,2), (2,2), (1,2), (1,2), (1,2)]\n",
    "numLayers = len(strideVals)\n",
    "inShp=(128,32,1)\n",
    "\n",
    "model = Sequential()\n",
    "model.add(Conv2D(1, (1,1), padding=\"same\",input_shape=inShp, activation='relu'))\n",
    "\n",
    "for i in range(numLayers):\n",
    "    model.add(Conv2D(featureVals[i], (poolVals[i][0], poolVals[i][1]), padding=\"same\", activation='relu'))\n",
    "    model.add(BatchNormalization())\n",
    "    model.add(MaxPooling2D(pool_size=(poolVals[i][0], poolVals[i][1]), strides=(poolVals[i][0], poolVals[i][1])))\n",
    "           \n",
    "numHidden = 256\n",
    "inputSize = (None,4,1,128)\n",
    "model.add(TimeDistributed(Flatten()))\n",
    "model.add(Bidirectional(LSTM((numHidden), batch_input_shape=(None,32,1,256), return_sequences=True)))\n",
    "model.add(Bidirectional(LSTM((numHidden), return_sequences=True)))\n",
    "model.add(Flatten())\n",
    "model.add(Dense(10000, activation='softmax'))\n",
    "\n",
    "model.compile(loss='sparse_categorical_crossentropy',\n",
    "                optimizer=keras.optimizers.Adadelta(),\n",
    "                metrics=['accuracy'])\n"
   ]
  },
  {
   "cell_type": "code",
   "execution_count": 12,
   "metadata": {},
   "outputs": [
    {
     "name": "stdout",
     "output_type": "stream",
     "text": [
      "_________________________________________________________________\n",
      "Layer (type)                 Output Shape              Param #   \n",
      "=================================================================\n",
      "conv2d_1 (Conv2D)            (None, 128, 32, 1)        2         \n",
      "_________________________________________________________________\n",
      "conv2d_2 (Conv2D)            (None, 128, 32, 1)        5         \n",
      "_________________________________________________________________\n",
      "batch_normalization_1 (Batch (None, 128, 32, 1)        4         \n",
      "_________________________________________________________________\n",
      "max_pooling2d_1 (MaxPooling2 (None, 64, 16, 1)         0         \n",
      "_________________________________________________________________\n",
      "conv2d_3 (Conv2D)            (None, 64, 16, 32)        160       \n",
      "_________________________________________________________________\n",
      "batch_normalization_2 (Batch (None, 64, 16, 32)        128       \n",
      "_________________________________________________________________\n",
      "max_pooling2d_2 (MaxPooling2 (None, 32, 8, 32)         0         \n",
      "_________________________________________________________________\n",
      "conv2d_4 (Conv2D)            (None, 32, 8, 64)         4160      \n",
      "_________________________________________________________________\n",
      "batch_normalization_3 (Batch (None, 32, 8, 64)         256       \n",
      "_________________________________________________________________\n",
      "max_pooling2d_3 (MaxPooling2 (None, 32, 4, 64)         0         \n",
      "_________________________________________________________________\n",
      "conv2d_5 (Conv2D)            (None, 32, 4, 128)        16512     \n",
      "_________________________________________________________________\n",
      "batch_normalization_4 (Batch (None, 32, 4, 128)        512       \n",
      "_________________________________________________________________\n",
      "max_pooling2d_4 (MaxPooling2 (None, 32, 2, 128)        0         \n",
      "_________________________________________________________________\n",
      "conv2d_6 (Conv2D)            (None, 32, 2, 256)        65792     \n",
      "_________________________________________________________________\n",
      "batch_normalization_5 (Batch (None, 32, 2, 256)        1024      \n",
      "_________________________________________________________________\n",
      "max_pooling2d_5 (MaxPooling2 (None, 32, 1, 256)        0         \n",
      "_________________________________________________________________\n",
      "time_distributed_1 (TimeDist (None, 32, 256)           0         \n",
      "_________________________________________________________________\n",
      "bidirectional_1 (Bidirection (None, 32, 512)           1050624   \n",
      "_________________________________________________________________\n",
      "bidirectional_2 (Bidirection (None, 32, 512)           1574912   \n",
      "_________________________________________________________________\n",
      "flatten_2 (Flatten)          (None, 16384)             0         \n",
      "_________________________________________________________________\n",
      "dense_1 (Dense)              (None, 10000)             163850000 \n",
      "=================================================================\n",
      "Total params: 166,564,091\n",
      "Trainable params: 166,563,129\n",
      "Non-trainable params: 962\n",
      "_________________________________________________________________\n",
      "None\n"
     ]
    }
   ],
   "source": [
    "try:\n",
    "    input_shape =(None,128,32,1)\n",
    "    model.build(input_shape)\n",
    "    print(model.summary())\n",
    "except AssertionError as assErr:\n",
    "    print(assErr)\n",
    "    "
   ]
  },
  {
   "cell_type": "code",
   "execution_count": 13,
   "metadata": {},
   "outputs": [
    {
     "name": "stdout",
     "output_type": "stream",
     "text": [
      "Train on 8798 samples, validate on 2200 samples\n",
      "Epoch 1/10\n",
      "8798/8798 [==============================] - 1960s 223ms/step - loss: 7.3006 - acc: 0.1436 - val_loss: 6.6527 - val_acc: 0.1845\n",
      "Epoch 2/10\n",
      "8798/8798 [==============================] - 1922s 218ms/step - loss: 3.9117 - acc: 0.4509 - val_loss: 4.6069 - val_acc: 0.4527\n",
      "Epoch 3/10\n",
      "8798/8798 [==============================] - 3675s 418ms/step - loss: 2.0307 - acc: 0.6324 - val_loss: 4.0115 - val_acc: 0.5500\n",
      "Epoch 4/10\n",
      "8798/8798 [==============================] - 1702s 193ms/step - loss: 0.9241 - acc: 0.8218 - val_loss: 3.8775 - val_acc: 0.5936\n",
      "Epoch 5/10\n",
      "8798/8798 [==============================] - 1291s 147ms/step - loss: 0.3309 - acc: 0.9412 - val_loss: 3.7416 - val_acc: 0.6368\n",
      "Epoch 6/10\n",
      "8798/8798 [==============================] - 1628s 185ms/step - loss: 0.1246 - acc: 0.9794 - val_loss: 3.6099 - val_acc: 0.6614\n",
      "Epoch 7/10\n",
      "8798/8798 [==============================] - 3799s 432ms/step - loss: 0.0544 - acc: 0.9910 - val_loss: 3.5004 - val_acc: 0.6755\n",
      "Epoch 8/10\n",
      "8798/8798 [==============================] - 1597s 181ms/step - loss: 0.0266 - acc: 0.9964 - val_loss: 3.4397 - val_acc: 0.6782\n",
      "Epoch 9/10\n",
      "8798/8798 [==============================] - 1676s 191ms/step - loss: 0.0065 - acc: 0.9994 - val_loss: 3.4468 - val_acc: 0.6832\n",
      "Epoch 10/10\n",
      "8798/8798 [==============================] - 1804s 205ms/step - loss: 0.0026 - acc: 0.9998 - val_loss: 3.4996 - val_acc: 0.6836\n",
      "5:50:57.689839\n"
     ]
    }
   ],
   "source": [
    "x_test = np.array(xTest)\n",
    "y_test = np.array(yTest)\n",
    "y_train = np.array(yTrain)\n",
    "x_train = np.array(xTrain)\n",
    "a = datetime.datetime.now()\n",
    "history = model.fit(x_train,y_train,epochs=10,validation_data=(x_test, y_test))\n",
    "b = datetime.datetime.now()\n",
    "print(b-a)"
   ]
  },
  {
   "cell_type": "code",
   "execution_count": 14,
   "metadata": {},
   "outputs": [
    {
     "name": "stdout",
     "output_type": "stream",
     "text": [
      "2200/2200 [==============================] - 31s 14ms/step\n",
      "Test loss: 3.499572236321189\n",
      "Test accuracy: 0.6836363638531078\n"
     ]
    }
   ],
   "source": [
    "score = model.evaluate(x_test,y_test, verbose=1)\n",
    "print('Test loss:', score[0])\n",
    "print('Test accuracy:', score[1])"
   ]
  },
  {
   "cell_type": "code",
   "execution_count": 27,
   "metadata": {},
   "outputs": [],
   "source": [
    "model.save('saved_model/bilstm.h5')"
   ]
  },
  {
   "cell_type": "code",
   "execution_count": 16,
   "metadata": {},
   "outputs": [],
   "source": [
    "model2 = keras.models.load_model('saved_model/bilstm.h5', compile=False)"
   ]
  },
  {
   "cell_type": "code",
   "execution_count": 17,
   "metadata": {},
   "outputs": [],
   "source": [
    "result = model2.predict(x_test)"
   ]
  },
  {
   "cell_type": "code",
   "execution_count": 18,
   "metadata": {},
   "outputs": [
    {
     "data": {
      "image/png": "[encoded data removed]",
      "text/plain": [
       "<Figure size 432x288 with 1 Axes>"
      ]
     },
     "metadata": {},
     "output_type": "display_data"
    }
   ],
   "source": [
    "plt.plot(history.history['loss'])\n",
    "plt.show()"
   ]
  },
  {
   "cell_type": "code",
   "execution_count": 37,
   "metadata": {},
   "outputs": [
    {
     "data": {
      "text/plain": [
       "200000"
      ]
     },
     "execution_count": 37,
     "metadata": {},
     "output_type": "execute_result"
    }
   ],
   "source": [
    "result.size"
   ]
  },
  {
   "cell_type": "code",
   "execution_count": 53,
   "metadata": {},
   "outputs": [
    {
     "data": {
      "text/plain": [
       "(1, 128, 32, 1)"
      ]
     },
     "execution_count": 53,
     "metadata": {},
     "output_type": "execute_result"
    }
   ],
   "source": [
    "test_image = np.expand_dims(xTest[100], axis = 0)\n",
    "prediction = model2.predict(test_image)\n",
    "test_image.shape"
   ]
  },
  {
   "cell_type": "code",
   "execution_count": 54,
   "metadata": {},
   "outputs": [
    {
     "name": "stdout",
     "output_type": "stream",
     "text": [
      "2123\n",
      "निर्माण\n"
     ]
    },
    {
     "name": "stderr",
     "output_type": "stream",
     "text": [
      "/anaconda/lib/python3.6/site-packages/sklearn/preprocessing/label.py:151: DeprecationWarning: The truth value of an empty array is ambiguous. Returning False, but in future this will result in an error. Use `array.size > 0` to check that an array is not empty.\n",
      "  if diff:\n"
     ]
    }
   ],
   "source": [
    "predicted_class = np.argmax(prediction[0])\n",
    "print(predicted_class)\n",
    "print(le.inverse_transform(predicted_class))"
   ]
  },
  {
   "cell_type": "code",
   "execution_count": 45,
   "metadata": {},
   "outputs": [
    {
     "data": {
      "text/plain": [
       "<matplotlib.image.AxesImage at 0x1ae93c36d8>"
      ]
     },
     "execution_count": 45,
     "metadata": {},
     "output_type": "execute_result"
    },
    {
     "data": {
      "image/png": "[encoded data removed]",
      "text/plain": [
       "<Figure size 432x288 with 1 Axes>"
      ]
     },
     "metadata": {},
     "output_type": "display_data"
    }
   ],
   "source": [
    "targetImg = np.reshape(xTest[100],(128,32))\n",
    "transposedImage = cv2.transpose(targetImg)\n",
    "plt.imshow(transposedImage,cmap='gray')"
   ]
  },
  {
   "cell_type": "markdown",
   "metadata": {},
   "source": [
    "# Save Token"
   ]
  },
  {
   "cell_type": "code",
   "execution_count": 36,
   "metadata": {},
   "outputs": [],
   "source": [
    "with open(\"token.txt\", \"w\") as txt_file:\n",
    "    for line in le.classes_:\n",
    "        txt_file.write(\"\".join(line) + \"\\n\")"
   ]
  },
  {
   "cell_type": "code",
   "execution_count": null,
   "metadata": {},
   "outputs": [],
   "source": []
  }
 ],
 "metadata": {
  "kernelspec": {
   "display_name": "Python 3",
   "language": "python",
   "name": "python3"
  },
  "language_info": {
   "codemirror_mode": {
    "name": "ipython",
    "version": 3
   },
   "file_extension": ".py",
   "mimetype": "text/x-python",
   "name": "python",
   "nbconvert_exporter": "python",
   "pygments_lexer": "ipython3",
   "version": "3.6.7"
  }
 },
 "nbformat": 4,
 "nbformat_minor": 2
}

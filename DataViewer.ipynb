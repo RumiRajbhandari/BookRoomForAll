{
 "cells": [
  {
   "cell_type": "code",
   "execution_count": 14,
   "metadata": {},
   "outputs": [],
   "source": [
    "import numpy as np\n",
    "import matplotlib.pyplot as plt\n",
    "from keras.models import Sequential, Model\n",
    "from keras.layers import Dense, Dropout, Flatten, Conv2D, MaxPooling2D, Input, Reshape\n",
    "import os\n",
    "import tensorflow as tf\n",
    "import ImageResize\n",
    "\n",
    "from PIL import Image, ImageFilter\n",
    "os.environ['KMP_DUPLICATE_LIB_OK']='True'"
   ]
  },
  {
   "cell_type": "code",
   "execution_count": 2,
   "metadata": {},
   "outputs": [],
   "source": [
    "dataset = np.load('dataset/dataset.npz')\n",
    "my_dict = {1: 'ka', 2: 'kha', 3: 'ga', 4: 'gha', 5: 'ङ', 6:'च', 7: 'छ', 8:'ज',9:'झ',10:'ञ',11:'ट',12:'ठ',13:'ड',14:'ढ',15:'ण', 16:'त',17:'थ',18:'द', 19:'ध',20:'न',21:'प',22:'फ',23:'ब',24:'भ',25:'म', 26:'य', 27:'र', 28:'ल', 29:'व', 30:'श', 31:'ष', 32:'स', 33:'ह', 34:'क्ष', 35:'त्र', 36:'ज्ञ', 37:'0', 38:'1', 39:'2', 40:'3', 41:'4', 42:'5', 43:'6', 44:'7', 45:'8', 46:'9' }\n"
   ]
  },
  {
   "cell_type": "markdown",
   "metadata": {},
   "source": [
    "dataset contains four files\n",
    "* arr_0 = train label\n",
    "* arr_1 = train images\n",
    "* arr_2 = test label\n",
    "* arr_3 = test images"
   ]
  },
  {
   "cell_type": "code",
   "execution_count": 82,
   "metadata": {},
   "outputs": [
    {
     "data": {
      "text/plain": [
       "['arr_1', 'arr_0', 'arr_3', 'arr_2']"
      ]
     },
     "execution_count": 82,
     "metadata": {},
     "output_type": "execute_result"
    }
   ],
   "source": [
    "dataset.files"
   ]
  },
  {
   "cell_type": "code",
   "execution_count": 83,
   "metadata": {},
   "outputs": [
    {
     "data": {
      "text/plain": [
       "<bound method Mapping.keys of <numpy.lib.npyio.NpzFile object at 0xb7694f9b0>>"
      ]
     },
     "execution_count": 83,
     "metadata": {},
     "output_type": "execute_result"
    }
   ],
   "source": [
    "dataset.keys"
   ]
  },
  {
   "cell_type": "code",
   "execution_count": 3,
   "metadata": {},
   "outputs": [],
   "source": [
    "label_train = dataset['arr_1']\n",
    "image_train = dataset['arr_0']\n",
    "label_test = dataset['arr_3']\n",
    "image_test = dataset['arr_2']\n",
    "\n",
    "image_train = tf.keras.utils.normalize(image_train, axis=1)\n",
    "image_test = tf.keras.utils.normalize(image_test, axis=1)"
   ]
  },
  {
   "cell_type": "markdown",
   "metadata": {},
   "source": [
    "Print the length of train image"
   ]
  },
  {
   "cell_type": "code",
   "execution_count": 22,
   "metadata": {},
   "outputs": [
    {
     "data": {
      "text/plain": [
       "78200"
      ]
     },
     "execution_count": 22,
     "metadata": {},
     "output_type": "execute_result"
    }
   ],
   "source": [
    "len(image_train)"
   ]
  },
  {
   "cell_type": "code",
   "execution_count": 23,
   "metadata": {},
   "outputs": [
    {
     "data": {
      "text/plain": [
       "13800"
      ]
     },
     "execution_count": 23,
     "metadata": {},
     "output_type": "execute_result"
    }
   ],
   "source": [
    "len(image_test)"
   ]
  },
  {
   "cell_type": "code",
   "execution_count": 56,
   "metadata": {},
   "outputs": [
    {
     "data": {
      "image/png": "[encoded data removed]",
      "text/plain": [
       "<Figure size 360x360 with 15 Axes>"
      ]
     },
     "metadata": {
      "needs_background": "light"
     },
     "output_type": "display_data"
    }
   ],
   "source": [
    "plt.figure(figsize=(5,5))\n",
    "start_index = 2000\n",
    "end_index = 2015\n",
    "index = 1\n",
    "for image, label in zip(image_train[start_index:end_index], label_train[start_index:end_index]):\n",
    "    plt.subplot(3,5,index)\n",
    "    plt.axis('off')\n",
    "    plt.imshow(image, cmap=plt.cm.gray_r, interpolation='nearest')\n",
    "    plt.title(label)\n",
    "    index += 1"
   ]
  },
  {
   "cell_type": "code",
   "execution_count": 25,
   "metadata": {},
   "outputs": [
    {
     "data": {
      "text/plain": [
       "array([39, 39, 39, ..., 29, 29, 29])"
      ]
     },
     "execution_count": 25,
     "metadata": {},
     "output_type": "execute_result"
    }
   ],
   "source": [
    "label_train"
   ]
  },
  {
   "cell_type": "code",
   "execution_count": 26,
   "metadata": {},
   "outputs": [
    {
     "data": {
      "text/plain": [
       "(32, 32)"
      ]
     },
     "execution_count": 26,
     "metadata": {},
     "output_type": "execute_result"
    }
   ],
   "source": [
    "image_train[0].shape"
   ]
  },
  {
   "cell_type": "code",
   "execution_count": 27,
   "metadata": {},
   "outputs": [],
   "source": [
    "model = Sequential()\n",
    "model.add(Flatten())\n",
    "model.add(Dense(128, activation='relu'))\n",
    "model.add(Dense(128, activation='relu'))\n",
    "model.add(Dense(47, activation='softmax'))"
   ]
  },
  {
   "cell_type": "code",
   "execution_count": 28,
   "metadata": {},
   "outputs": [
    {
     "name": "stdout",
     "output_type": "stream",
     "text": [
      "Epoch 1/8\n",
      "78200/78200 [==============================] - 35s 451us/step - loss: 1.1357 - acc: 0.6859\n",
      "Epoch 2/8\n",
      "78200/78200 [==============================] - 23s 298us/step - loss: 0.5289 - acc: 0.8468\n",
      "Epoch 3/8\n",
      "78200/78200 [==============================] - 24s 304us/step - loss: 0.3752 - acc: 0.8884\n",
      "Epoch 4/8\n",
      "78200/78200 [==============================] - 23s 292us/step - loss: 0.2959 - acc: 0.9108\n",
      "Epoch 5/8\n",
      "78200/78200 [==============================] - 22s 284us/step - loss: 0.2442 - acc: 0.9251\n",
      "Epoch 6/8\n",
      "78200/78200 [==============================] - 24s 304us/step - loss: 0.2043 - acc: 0.9362\n",
      "Epoch 7/8\n",
      "78200/78200 [==============================] - 20s 255us/step - loss: 0.1797 - acc: 0.9436\n",
      "Epoch 8/8\n",
      "78200/78200 [==============================] - 22s 280us/step - loss: 0.1535 - acc: 0.9514\n"
     ]
    },
    {
     "data": {
      "text/plain": [
       "<keras.callbacks.History at 0xb41b33d68>"
      ]
     },
     "execution_count": 28,
     "metadata": {},
     "output_type": "execute_result"
    }
   ],
   "source": [
    "model.compile(optimizer='adam',loss='sparse_categorical_crossentropy',metrics=['accuracy'])\n",
    "model.fit(image_train, label_train,epochs=8)"
   ]
  },
  {
   "cell_type": "code",
   "execution_count": 29,
   "metadata": {},
   "outputs": [
    {
     "name": "stdout",
     "output_type": "stream",
     "text": [
      "13800/13800 [==============================] - 1s 65us/step\n",
      "0.31180986786598636 0.9163768115942029\n"
     ]
    }
   ],
   "source": [
    "val_loss, val_acc = model.evaluate(image_test, label_test)\n",
    "print(val_loss, val_acc)"
   ]
  },
  {
   "cell_type": "code",
   "execution_count": 30,
   "metadata": {},
   "outputs": [],
   "source": [
    "model.save('handwriting.model')"
   ]
  },
  {
   "cell_type": "code",
   "execution_count": 8,
   "metadata": {},
   "outputs": [],
   "source": [
    "new_model = tf.keras.models.load_model('handwriting.model', compile=False)"
   ]
  },
  {
   "cell_type": "code",
   "execution_count": 9,
   "metadata": {},
   "outputs": [
    {
     "name": "stdout",
     "output_type": "stream",
     "text": [
      "ज\n"
     ]
    },
    {
     "data": {
      "text/plain": [
       "<matplotlib.image.AxesImage at 0xb6ddcd160>"
      ]
     },
     "execution_count": 9,
     "metadata": {},
     "output_type": "execute_result"
    },
    {
     "data": {
      "image/png": "[encoded data removed]",
      "text/plain": [
       "<Figure size 432x288 with 1 Axes>"
      ]
     },
     "metadata": {
      "needs_background": "light"
     },
     "output_type": "display_data"
    }
   ],
   "source": [
    "img = np.expand_dims(image_test[1000], axis = 0)\n",
    "predictions = new_model.predict(img)\n",
    "print(my_dict.get(np.argmax(predictions[0])))\n",
    "plt.imshow(image_test[1000])"
   ]
  },
  {
   "cell_type": "code",
   "execution_count": 23,
   "metadata": {},
   "outputs": [],
   "source": [
    "img = ImageResize.resizeImage('test_img.png')\n",
    "img = np.expand_dims(img, axis = 0)\n",
    "x = Image.open('test_img.png')\n",
    "x.show()"
   ]
  },
  {
   "cell_type": "code",
   "execution_count": 24,
   "metadata": {
    "scrolled": true
   },
   "outputs": [
    {
     "name": "stdout",
     "output_type": "stream",
     "text": [
      "23\n",
      "ब\n"
     ]
    }
   ],
   "source": [
    "predictions = new_model.predict(img)\n",
    "predicted_class = np.argmax(predictions[0])\n",
    "print(predicted_class)\n",
    "print(my_dict.get(predicted_class))"
   ]
  },
  {
   "cell_type": "code",
   "execution_count": 79,
   "metadata": {},
   "outputs": [
    {
     "data": {
      "text/plain": [
       "21"
      ]
     },
     "execution_count": 79,
     "metadata": {},
     "output_type": "execute_result"
    }
   ],
   "source": [
    "label_test[1700]"
   ]
  },
  {
   "cell_type": "code",
   "execution_count": 13,
   "metadata": {},
   "outputs": [
    {
     "data": {
      "text/plain": [
       "<matplotlib.image.AxesImage at 0xb764219b0>"
      ]
     },
     "execution_count": 13,
     "metadata": {},
     "output_type": "execute_result"
    },
    {
     "data": {
      "image/png": "[encoded data removed]",
      "text/plain": [
       "<Figure size 432x288 with 1 Axes>"
      ]
     },
     "metadata": {
      "needs_background": "light"
     },
     "output_type": "display_data"
    }
   ],
   "source": []
  },
  {
   "cell_type": "code",
   "execution_count": 40,
   "metadata": {},
   "outputs": [
    {
     "data": {
      "text/plain": [
       "39"
      ]
     },
     "execution_count": 40,
     "metadata": {},
     "output_type": "execute_result"
    }
   ],
   "source": [
    "label_test[0]"
   ]
  },
  {
   "cell_type": "code",
   "execution_count": 41,
   "metadata": {},
   "outputs": [
    {
     "name": "stdout",
     "output_type": "stream",
     "text": [
      "_________________________________________________________________\n",
      "Layer (type)                 Output Shape              Param #   \n",
      "=================================================================\n",
      "flatten_4 (Flatten)          multiple                  0         \n",
      "_________________________________________________________________\n",
      "dense_10 (Dense)             multiple                  131200    \n",
      "_________________________________________________________________\n",
      "dense_11 (Dense)             multiple                  16512     \n",
      "_________________________________________________________________\n",
      "dense_12 (Dense)             multiple                  6063      \n",
      "=================================================================\n",
      "Total params: 153,775\n",
      "Trainable params: 153,775\n",
      "Non-trainable params: 0\n",
      "_________________________________________________________________\n"
     ]
    }
   ],
   "source": [
    "new_model.summary()"
   ]
  }
 ],
 "metadata": {
  "kernelspec": {
   "display_name": "Python [conda env:RumEnv]",
   "language": "python",
   "name": "conda-env-RumEnv-py"
  },
  "language_info": {
   "codemirror_mode": {
    "name": "ipython",
    "version": 3
   },
   "file_extension": ".py",
   "mimetype": "text/x-python",
   "name": "python",
   "nbconvert_exporter": "python",
   "pygments_lexer": "ipython3",
   "version": "3.6.8"
  }
 },
 "nbformat": 4,
 "nbformat_minor": 2
}
